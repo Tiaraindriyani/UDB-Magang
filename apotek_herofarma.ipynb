{
  "nbformat": 4,
  "nbformat_minor": 0,
  "metadata": {
    "colab": {
      "provenance": [],
      "authorship_tag": "ABX9TyNw2m5jHFh99sud+o2IZ/Qk",
      "include_colab_link": true
    },
    "kernelspec": {
      "name": "python3",
      "display_name": "Python 3"
    },
    "language_info": {
      "name": "python"
    }
  },
  "cells": [
    {
      "cell_type": "markdown",
      "metadata": {
        "id": "view-in-github",
        "colab_type": "text"
      },
      "source": [
        "<a href=\"https://colab.research.google.com/github/Tiaraindriyani/UDB-Magang/blob/main/apotek_herofarma.ipynb\" target=\"_parent\"><img src=\"https://colab.research.google.com/assets/colab-badge.svg\" alt=\"Open In Colab\"/></a>"
      ]
    },
    {
      "cell_type": "code",
      "execution_count": 1,
      "metadata": {
        "colab": {
          "base_uri": "https://localhost:8080/"
        },
        "id": "tsWXKrNOuauf",
        "outputId": "e97652af-3313-4cfd-80ce-279a8f13b3ce"
      },
      "outputs": [
        {
          "output_type": "stream",
          "name": "stdout",
          "text": [
            "Requirement already satisfied: pandas in /usr/local/lib/python3.11/dist-packages (2.2.2)\n",
            "Requirement already satisfied: scikit-learn in /usr/local/lib/python3.11/dist-packages (1.6.1)\n",
            "Requirement already satisfied: openpyxl in /usr/local/lib/python3.11/dist-packages (3.1.5)\n",
            "Requirement already satisfied: numpy>=1.23.2 in /usr/local/lib/python3.11/dist-packages (from pandas) (2.0.2)\n",
            "Requirement already satisfied: python-dateutil>=2.8.2 in /usr/local/lib/python3.11/dist-packages (from pandas) (2.9.0.post0)\n",
            "Requirement already satisfied: pytz>=2020.1 in /usr/local/lib/python3.11/dist-packages (from pandas) (2025.2)\n",
            "Requirement already satisfied: tzdata>=2022.7 in /usr/local/lib/python3.11/dist-packages (from pandas) (2025.2)\n",
            "Requirement already satisfied: scipy>=1.6.0 in /usr/local/lib/python3.11/dist-packages (from scikit-learn) (1.15.2)\n",
            "Requirement already satisfied: joblib>=1.2.0 in /usr/local/lib/python3.11/dist-packages (from scikit-learn) (1.4.2)\n",
            "Requirement already satisfied: threadpoolctl>=3.1.0 in /usr/local/lib/python3.11/dist-packages (from scikit-learn) (3.6.0)\n",
            "Requirement already satisfied: et-xmlfile in /usr/local/lib/python3.11/dist-packages (from openpyxl) (2.0.0)\n",
            "Requirement already satisfied: six>=1.5 in /usr/local/lib/python3.11/dist-packages (from python-dateutil>=2.8.2->pandas) (1.17.0)\n"
          ]
        }
      ],
      "source": [
        "pip install pandas scikit-learn openpyxl"
      ]
    },
    {
      "cell_type": "code",
      "source": [
        "import pandas as pd\n",
        "\n",
        "df = pd.read_excel('data obat.xlsx')\n",
        "print(df.head())"
      ],
      "metadata": {
        "colab": {
          "base_uri": "https://localhost:8080/"
        },
        "id": "EA4SRbj_u235",
        "outputId": "0d2aec1f-b920-4507-aa9e-3f8aaa01a622"
      },
      "execution_count": 2,
      "outputs": [
        {
          "output_type": "stream",
          "name": "stdout",
          "text": [
            "  DATA OBAT APOTEK   Unnamed: 1  Unnamed: 2           Unnamed: 3  \\\n",
            "0              NaN          NaN         NaN                  NaN   \n",
            "1               No    Nama Obat    Kategori             Indikasi   \n",
            "2                1  Paracetamol   Analgesik  Demam, nyeri ringan   \n",
            "3                2    Ibuprofen   Analgesik         Neri, radang   \n",
            "4                3  Amoxicillin  Antibiotik      Infeksi bakteri   \n",
            "\n",
            "            Unnamed: 4      Unnamed: 5   Unnamed: 6  \n",
            "0                  NaN             NaN          NaN  \n",
            "1         Efek Samping  Bentuk Sediaan  Harga (IDR)  \n",
            "2     Mual, ruam kulit          Tablet     5,000.00  \n",
            "3  Sakit perut, pusing          Tablet     8,000.00  \n",
            "4        Diare, alergi          Kapsul    20,000.00  \n"
          ]
        }
      ]
    },
    {
      "cell_type": "code",
      "source": [
        "import pandas as pd\n",
        "from sklearn.feature_extraction.text import TfidfVectorizer\n",
        "from sklearn.metrics.pairwise import cosine_similarity\n",
        "\n",
        "# Step 1: Load data\n",
        "file_path = 'data obat.xlsx'\n",
        "df = pd.read_excel(file_path, skiprows=2)  # skip metadata rows\n",
        "\n",
        "# Step 2: Combine relevant text fields\n",
        "df['gabungan_fitur'] = df['Kategori'].astype(str) + ' ' + df['Indikasi'].astype(str) + ' ' + df['Efek Samping'].astype(str) + ' ' + df['Bentuk Sediaan'].astype(str)\n",
        "\n",
        "# Step 3: TF-IDF vectorization\n",
        "vectorizer = TfidfVectorizer()\n",
        "tfidf_matrix = vectorizer.fit_transform(df['gabungan_fitur'])\n",
        "\n",
        "# Step 4: Compute cosine similarity\n",
        "cosine_sim = cosine_similarity(tfidf_matrix, tfidf_matrix)\n",
        "\n",
        "# Step 5: Show similarity matrix\n",
        "similarity_df = pd.DataFrame(cosine_sim, index=df['Nama Obat'], columns=df['Nama Obat'])\n",
        "print(\"\\nCosine Similarity Matrix:\")\n",
        "print(similarity_df)\n",
        "\n",
        "# Step 6: Recommend top-N similar items (example: for Paracetamol)\n",
        "def get_recommendations(nama_obat, top_n=3):\n",
        "    idx = df[df['Nama Obat'].str.lower() == nama_obat.lower()].index[0]\n",
        "    sim_scores = list(enumerate(cosine_sim[idx]))\n",
        "    sim_scores = sorted(sim_scores, key=lambda x: x[1], reverse=True)\n",
        "    sim_scores = sim_scores[1:top_n+1]  # skip itself\n",
        "    recommended = [(df.iloc[i]['Nama Obat'], score) for i, score in sim_scores]\n",
        "    return recommended\n",
        "\n",
        "# Example usage\n",
        "nama_obat_input = 'Paracetamol'\n",
        "rekomendasi = get_recommendations(nama_obat_input, top_n=3)\n",
        "print(f\"\\nTop rekomendasi mirip dengan {nama_obat_input}:\")\n",
        "for nama, skor in rekomendasi:\n",
        "    print(f\"{nama} (skor: {skor:.2f})\")\n"
      ],
      "metadata": {
        "colab": {
          "base_uri": "https://localhost:8080/"
        },
        "id": "Ml1LotV6vsHB",
        "outputId": "ca8a6537-4134-4238-931d-9293d2fe9ae5"
      },
      "execution_count": 12,
      "outputs": [
        {
          "output_type": "stream",
          "name": "stdout",
          "text": [
            "\n",
            "Cosine Similarity Matrix:\n",
            "Nama Obat             Paracetamol  Ibuprofen  Amoxicillin  Cetirizine  \\\n",
            "Nama Obat                                                               \n",
            "Paracetamol              1.000000   0.163143     0.000000    0.022820   \n",
            "Ibuprofen                0.163143   1.000000     0.000000    0.023965   \n",
            "Amoxicillin              0.000000   0.000000     1.000000    0.168054   \n",
            "Cetirizine               0.022820   0.023965     0.168054    1.000000   \n",
            "Omeprazole               0.000000   0.087410     0.222229    0.000000   \n",
            "...                           ...        ...          ...         ...   \n",
            "Sacubitril/Valsartan     0.018821   0.019766     0.000000    0.021909   \n",
            "Dupilumab                0.000000   0.000000     0.000000    0.000000   \n",
            "Semaglutide              0.078770   0.000000     0.116063    0.000000   \n",
            "Osimertinib              0.150377   0.019928     0.107652    0.022090   \n",
            "Daratumumab              0.000000   0.000000     0.092582    0.000000   \n",
            "\n",
            "Nama Obat             Omeprazole  Loratadine  Ciprofloxacin  Dexamethasone  \\\n",
            "Nama Obat                                                                    \n",
            "Paracetamol             0.000000    0.023183       0.118533       0.017029   \n",
            "Ibuprofen               0.087410    0.128335       0.135288       0.017884   \n",
            "Amoxicillin             0.222229    0.170728       0.298169       0.000000   \n",
            "Cetirizine              0.000000    0.372077       0.028449       0.019823   \n",
            "Omeprazole              1.000000    0.000000       0.000000       0.000000   \n",
            "...                          ...         ...            ...            ...   \n",
            "Sacubitril/Valsartan    0.000000    0.022258       0.023464       0.016350   \n",
            "Dupilumab               0.000000    0.000000       0.000000       0.000000   \n",
            "Semaglutide             0.101896    0.000000       0.098199       0.000000   \n",
            "Osimertinib             0.094511    0.022441       0.023657       0.016484   \n",
            "Daratumumab             0.000000    0.000000       0.091885       0.000000   \n",
            "\n",
            "Nama Obat             Metformin  Simvastatin  ...  Aripiprazole  \\\n",
            "Nama Obat                                     ...                 \n",
            "Paracetamol            0.023874     0.114103  ...      0.018219   \n",
            "Ibuprofen              0.025071     0.023726  ...      0.019133   \n",
            "Amoxicillin            0.135434     0.000000  ...      0.000000   \n",
            "Cetirizine             0.027791     0.026300  ...      0.021208   \n",
            "Omeprazole             0.118902     0.000000  ...      0.000000   \n",
            "...                         ...          ...  ...           ...   \n",
            "Sacubitril/Valsartan   0.022921     0.021691  ...      0.017491   \n",
            "Dupilumab              0.000000     0.000000  ...      0.000000   \n",
            "Semaglutide            0.586757     0.000000  ...      0.000000   \n",
            "Osimertinib            0.127479     0.021870  ...      0.017636   \n",
            "Daratumumab            0.000000     0.000000  ...      0.000000   \n",
            "\n",
            "Nama Obat             Buprenorphine  Mirabegron  Sofosbuvir  Palbociclib  \\\n",
            "Nama Obat                                                                  \n",
            "Paracetamol                0.220595    0.020350    0.022326     0.000000   \n",
            "Ibuprofen                  0.153304    0.103649    0.113717     0.000000   \n",
            "Amoxicillin                0.000000    0.000000    0.000000     0.080571   \n",
            "Cetirizine                 0.185342    0.023689    0.025989     0.000000   \n",
            "Omeprazole                 0.000000    0.182251    0.199954     0.070736   \n",
            "...                             ...         ...         ...          ...   \n",
            "Sacubitril/Valsartan       0.152863    0.019537    0.021435     0.000000   \n",
            "Dupilumab                  0.000000    0.000000    0.000000     0.000000   \n",
            "Semaglutide                0.000000    0.000000    0.000000     0.000000   \n",
            "Osimertinib                0.017832    0.019698    0.021612     0.311795   \n",
            "Daratumumab                0.000000    0.000000    0.000000     0.314545   \n",
            "\n",
            "Nama Obat             Sacubitril/Valsartan  Dupilumab  Semaglutide  \\\n",
            "Nama Obat                                                            \n",
            "Paracetamol                       0.018821   0.000000     0.078770   \n",
            "Ibuprofen                         0.019766   0.000000     0.000000   \n",
            "Amoxicillin                       0.000000   0.000000     0.116063   \n",
            "Cetirizine                        0.021909   0.000000     0.000000   \n",
            "Omeprazole                        0.000000   0.000000     0.101896   \n",
            "...                                    ...        ...          ...   \n",
            "Sacubitril/Valsartan              1.000000   0.000000     0.000000   \n",
            "Dupilumab                         0.000000   1.000000     0.253335   \n",
            "Semaglutide                       0.000000   0.253335     1.000000   \n",
            "Osimertinib                       0.018219   0.000000     0.089442   \n",
            "Daratumumab                       0.000000   0.237047     0.152700   \n",
            "\n",
            "Nama Obat             Osimertinib  Daratumumab  \n",
            "Nama Obat                                       \n",
            "Paracetamol              0.150377     0.000000  \n",
            "Ibuprofen                0.019928     0.000000  \n",
            "Amoxicillin              0.107652     0.092582  \n",
            "Cetirizine               0.022090     0.000000  \n",
            "Omeprazole               0.094511     0.000000  \n",
            "...                           ...          ...  \n",
            "Sacubitril/Valsartan     0.018219     0.000000  \n",
            "Dupilumab                0.000000     0.237047  \n",
            "Semaglutide              0.089442     0.152700  \n",
            "Osimertinib              1.000000     0.158825  \n",
            "Daratumumab              0.158825     1.000000  \n",
            "\n",
            "[80 rows x 80 columns]\n",
            "\n",
            "Top rekomendasi mirip dengan Paracetamol:\n",
            "Aspirin (skor: 0.44)\n",
            "Cefadroxil (skor: 0.39)\n",
            "Tramadol (skor: 0.32)\n"
          ]
        }
      ]
    }
  ]
}